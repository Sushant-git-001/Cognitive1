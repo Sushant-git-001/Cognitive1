{
  "nbformat": 4,
  "nbformat_minor": 0,
  "metadata": {
    "colab": {
      "provenance": []
    },
    "kernelspec": {
      "name": "python3",
      "display_name": "Python 3"
    },
    "language_info": {
      "name": "python"
    }
  },
  "cells": [
    {
      "cell_type": "code",
      "execution_count": 1,
      "metadata": {
        "colab": {
          "base_uri": "https://localhost:8080/"
        },
        "id": "X50W06kVDW-5",
        "outputId": "c9cab6a6-fda8-4289-a7b8-74683288b626"
      },
      "outputs": [
        {
          "output_type": "stream",
          "name": "stdout",
          "text": [
            "After adding 2 to all elements: [12 22 32 42 52]\n",
            "After multiplying all elements by 3: [ 30  60  90 120 150]\n",
            "After dividing all elements by 2: [ 5. 10. 15. 20. 25.]\n"
          ]
        }
      ],
      "source": [
        "# 1\n",
        "import numpy as np\n",
        "\n",
        "\n",
        "arr = np.array([10, 20, 30, 40, 50])\n",
        "\n",
        "\n",
        "arr_add = arr + 2\n",
        "print(\"After adding 2 to all elements:\", arr_add)\n",
        "\n",
        "arr_multiply = arr * 3\n",
        "print(\"After multiplying all elements by 3:\", arr_multiply)\n",
        "\n",
        "arr_divide = arr / 2\n",
        "print(\"After dividing all elements by 2:\", arr_divide)\n"
      ]
    },
    {
      "cell_type": "code",
      "source": [
        "# 2\n",
        "import numpy as np\n",
        "arr = np.array([1, 2, 3, 6, 4, 5])[::-1]\n",
        "print(\"Reversed array:\", arr)\n",
        "\n",
        "def most_frequent(arr):\n",
        "    values, counts = np.unique(arr, return_counts=True)\n",
        "    most_frequent_value = values[np.argmax(counts)]\n",
        "    return most_frequent_value, np.where(arr == most_frequent_value)[0]\n",
        "\n",
        "a, b = np.array([1,2,3,4,5,1,2,1,1,1]), np.array([1, 1, 1, 2, 3, 4, 2, 4, 3, 3])\n",
        "\n",
        "print(\"Most frequent value in a:\", most_frequent(a))\n",
        "print(\"Most frequent value in b:\", most_frequent(b))\n",
        "\n"
      ],
      "metadata": {
        "colab": {
          "base_uri": "https://localhost:8080/"
        },
        "id": "160TQZ88EHTN",
        "outputId": "e6b35e36-4a9b-4003-d894-7a36768b6f33"
      },
      "execution_count": 3,
      "outputs": [
        {
          "output_type": "stream",
          "name": "stdout",
          "text": [
            "Reversed array: [5 4 6 3 2 1]\n",
            "Most frequent value in a: (1, array([0, 5, 7, 8, 9]))\n",
            "Most frequent value in b: (1, array([0, 1, 2]))\n"
          ]
        }
      ]
    },
    {
      "cell_type": "code",
      "source": [
        "# 3\n",
        "\n",
        "\n",
        "two_d_arr = np.array([[10, 20, 30], [40, 50, 60], [70, 80, 90]])\n",
        "\n",
        "print(\"2D array:\")\n",
        "print(two_d_arr)\n",
        "print(\"1st row, 2nd column:\", two_d_arr[0, 1])\n",
        "print(\"3rd row, 1st column:\", two_d_arr[2, 0])"
      ],
      "metadata": {
        "colab": {
          "base_uri": "https://localhost:8080/"
        },
        "id": "rOvz4pntFxmB",
        "outputId": "3426385e-8e51-47c0-fd39-852cb59dbc69"
      },
      "execution_count": 4,
      "outputs": [
        {
          "output_type": "stream",
          "name": "stdout",
          "text": [
            "2D array:\n",
            "[[10 20 30]\n",
            " [40 50 60]\n",
            " [70 80 90]]\n",
            "1st row, 2nd column: 20\n",
            "3rd row, 1st column: 70\n"
          ]
        }
      ]
    },
    {
      "cell_type": "code",
      "source": [
        "# 4\n",
        "arr = np.linspace(10, 100, 25)\n",
        "print(\"\\nArray:\", arr)\n",
        "\n",
        "# Print array properties\n",
        "print(\"Shape:\", arr.shape)\n",
        "print(\"Total elements:\", arr.size)\n",
        "print(\"Data type:\", arr.dtype)\n",
        "print(\"Total bytes consumed:\", arr.nbytes)\n",
        "\n",
        "# Transpose using reshape\n",
        "transposed_array = arr.reshape(25, 1)\n",
        "print(\"\\nTransposed using reshape:\\n\", transposed_array)\n",
        "\n",
        "# Transpose using T attribute\n",
        "transposed_T = arr.T\n",
        "print(\"\\nTransposed using T attribute:\\n\", transposed_T)\n"
      ],
      "metadata": {
        "colab": {
          "base_uri": "https://localhost:8080/"
        },
        "id": "L7lf_eRNGaps",
        "outputId": "99cd4e86-f5dc-4d5c-eb2d-1bef142e82be"
      },
      "execution_count": 5,
      "outputs": [
        {
          "output_type": "stream",
          "name": "stdout",
          "text": [
            "\n",
            "Array: [ 10.    13.75  17.5   21.25  25.    28.75  32.5   36.25  40.    43.75\n",
            "  47.5   51.25  55.    58.75  62.5   66.25  70.    73.75  77.5   81.25\n",
            "  85.    88.75  92.5   96.25 100.  ]\n",
            "Shape: (25,)\n",
            "Total elements: 25\n",
            "Data type: float64\n",
            "Total bytes consumed: 200\n",
            "\n",
            "Transposed using reshape:\n",
            " [[ 10.  ]\n",
            " [ 13.75]\n",
            " [ 17.5 ]\n",
            " [ 21.25]\n",
            " [ 25.  ]\n",
            " [ 28.75]\n",
            " [ 32.5 ]\n",
            " [ 36.25]\n",
            " [ 40.  ]\n",
            " [ 43.75]\n",
            " [ 47.5 ]\n",
            " [ 51.25]\n",
            " [ 55.  ]\n",
            " [ 58.75]\n",
            " [ 62.5 ]\n",
            " [ 66.25]\n",
            " [ 70.  ]\n",
            " [ 73.75]\n",
            " [ 77.5 ]\n",
            " [ 81.25]\n",
            " [ 85.  ]\n",
            " [ 88.75]\n",
            " [ 92.5 ]\n",
            " [ 96.25]\n",
            " [100.  ]]\n",
            "\n",
            "Transposed using T attribute:\n",
            " [ 10.    13.75  17.5   21.25  25.    28.75  32.5   36.25  40.    43.75\n",
            "  47.5   51.25  55.    58.75  62.5   66.25  70.    73.75  77.5   81.25\n",
            "  85.    88.75  92.5   96.25 100.  ]\n"
          ]
        }
      ]
    },
    {
      "cell_type": "code",
      "source": [
        "# 5\n",
        "ucs420_sushant = np.array([[10, 20, 30, 40], [50, 60, 70, 80], [90, 15, 20, 35]])\n",
        "\n",
        "\n",
        "print(\"Mean:\", np.mean(ucs420_sushant))\n",
        "print(\"Median:\", np.median(ucs420_sushant))\n",
        "print(\"Max:\", np.max(ucs420_sushant))\n",
        "print(\"Min:\", np.min(ucs420_sushant))\n",
        "print(\"Unique elements:\", np.unique(ucs420_sushant))\n",
        "\n",
        "\n",
        "reshaped_ucs420_sushant = ucs420_sushant.reshape(4, 3)\n",
        "print(\"\\nReshaped to 4x3:\\n\", reshaped_ucs420_sushant)\n",
        "\n",
        "resized_ucs420_sushant = np.resize(ucs420_sushant, (2, 3))\n",
        "print(\"\\nResized to 2x3:\\n\", resized_ucs420_sushant)\n"
      ],
      "metadata": {
        "colab": {
          "base_uri": "https://localhost:8080/"
        },
        "id": "bF-wA5AhGxC3",
        "outputId": "7c2185f1-a064-4d4e-ed8f-91df10dec7bf"
      },
      "execution_count": 6,
      "outputs": [
        {
          "output_type": "stream",
          "name": "stdout",
          "text": [
            "Mean: 43.333333333333336\n",
            "Median: 37.5\n",
            "Max: 90\n",
            "Min: 10\n",
            "Unique elements: [10 15 20 30 35 40 50 60 70 80 90]\n",
            "\n",
            "Reshaped to 4x3:\n",
            " [[10 20 30]\n",
            " [40 50 60]\n",
            " [70 80 90]\n",
            " [15 20 35]]\n",
            "\n",
            "Resized to 2x3:\n",
            " [[10 20 30]\n",
            " [40 50 60]]\n"
          ]
        }
      ]
    },
    {
      "cell_type": "code",
      "source": [],
      "metadata": {
        "id": "p2zeSPEBIPob"
      },
      "execution_count": null,
      "outputs": []
    }
  ]
}
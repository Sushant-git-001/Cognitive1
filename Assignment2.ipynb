{
  "nbformat": 4,
  "nbformat_minor": 0,
  "metadata": {
    "colab": {
      "provenance": [],
      "authorship_tag": "ABX9TyM9Upk+i97OiufgU2Wkd/iA",
      "include_colab_link": true
    },
    "kernelspec": {
      "name": "python3",
      "display_name": "Python 3"
    },
    "language_info": {
      "name": "python"
    }
  },
  "cells": [
    {
      "cell_type": "markdown",
      "metadata": {
        "id": "view-in-github",
        "colab_type": "text"
      },
      "source": [
        "<a href=\"https://colab.research.google.com/github/Sushant-git-001/Cognitive1/blob/main/Assignment2.ipynb\" target=\"_parent\"><img src=\"https://colab.research.google.com/assets/colab-badge.svg\" alt=\"Open In Colab\"/></a>"
      ]
    },
    {
      "cell_type": "code",
      "execution_count": null,
      "metadata": {
        "colab": {
          "base_uri": "https://localhost:8080/"
        },
        "id": "dN9e5O5hItQx",
        "outputId": "19b83013-b2cf-441a-fee4-73ff419faa92"
      },
      "outputs": [
        {
          "output_type": "stream",
          "name": "stdout",
          "text": [
            "[10, 20, 30, 40, 50, 60, 70, 80, 200, 300]\n",
            "[20, 40, 50, 60, 70, 80, 200, 300]\n",
            "[20, 40, 50, 60, 70, 80, 200, 300]\n",
            "[300, 200, 80, 70, 60, 50, 40, 20]\n"
          ]
        }
      ],
      "source": [
        "# 1. Create a List L that is defined as= [10, 20, 30, 40, 50, 60, 70, 80].\n",
        "# i.\n",
        "# WAP to add 200 and 300 to L.\n",
        "# ii.\n",
        "# iii.\n",
        "# iv.\n",
        "# WAP to remove 10 and 30 from L.\n",
        "# WAP to sort L in ascending order.\n",
        "# WAP to sort L in descending order.\n",
        "#1.1\n",
        "L=[10,20,30,40,50,60,70,80]\n",
        "L.append(200)\n",
        "L.append(300)\n",
        "print(L)\n",
        "#1.2\n",
        "L.remove(10)\n",
        "L.remove(30)\n",
        "print(L)\n",
        "#1.3\n",
        "L.sort()\n",
        "print(L)\n",
        "#1.4\n",
        "L.sort(reverse=True)\n",
        "print(L)\n",
        "\n",
        "\n",
        "\n",
        "\n",
        "\n",
        "\n",
        "\n"
      ]
    },
    {
      "cell_type": "code",
      "source": [
        "#2\n",
        "# Create a tuple of marks scored as scores = (45, 89.5, 76, 45.4, 89, 92, 58, 45) and\n",
        "# perform the following operations using tuple functions:\n",
        "# i. Identify the highest score and its index in the tuple.\n",
        "# ii. Find the lowest score and count how many times it appears.\n",
        "# iii. Reverse the tuple and return it as a list.\n",
        "# iv. Check if a specific score ‘76’ (input by the user) is present in the tuple and\n",
        "# print its first occurrence index, or a message saying it’s not present.\n",
        "\n",
        "#2.1\n",
        "scores=(45,89.5,76,45,4,89,92,58,45)\n",
        "print(max(scores))\n",
        "print(scores.index(max(scores)))\n",
        "#2.2\n",
        "print(min(scores))\n",
        "a=min(scores)\n",
        "print(scores.count(a))\n",
        "#2.3\n",
        "L=list(reversed(scores))\n",
        "print(L)\n",
        "#2.4\n",
        "A=int (input(\"Enter the number: \"))\n",
        "if A in scores:\n",
        "  print(scores.index(A))\n",
        "else:\n",
        "    print(\"Entered Number is Not in the Tuple! \")\n",
        "\n",
        "\n",
        "\n",
        "\n"
      ],
      "metadata": {
        "colab": {
          "base_uri": "https://localhost:8080/"
        },
        "id": "91ZW5VGAXxE4",
        "outputId": "815ee9ca-ce87-4584-ed53-1648f831b93f"
      },
      "execution_count": 15,
      "outputs": [
        {
          "output_type": "stream",
          "name": "stdout",
          "text": [
            "92\n",
            "6\n",
            "4\n",
            "1\n",
            "[45, 58, 92, 89, 4, 45, 76, 89.5, 45]\n",
            "Enter the number: 100\n",
            "Entered Number is Not in the Tuple! \n"
          ]
        }
      ]
    },
    {
      "cell_type": "code",
      "source": [
        "#3\n",
        "# WAP to create a list of 100 random numbers between 100 and 900. Count and print\n",
        "# the:\n",
        "# i. All odd numbers\n",
        "# ii. All even numbers\n",
        "# iii. All prime numbers\n",
        "import random\n",
        "L=[]\n",
        "L1=[]\n",
        "L2=[]\n",
        "L3=[]\n",
        "for i in range(100):\n",
        "  L.append(random.randint(100,900))\n",
        "  if(L[i]%2!=0):\n",
        "    L1.append(L[i])\n",
        "  if(L[i]%2==0):\n",
        "    L2.append(L[i])\n",
        "for i in range(100):\n",
        "  count=0\n",
        "  for j in range(1,L[i]+1):\n",
        "    if(L[i]%j==0):\n",
        "      count=count+1\n",
        "  if(count==2):\n",
        "    L3.append(L[i])\n",
        "\n",
        "#3.1\n",
        "print(\"odd numbers are: \",L1)\n",
        "print(\"number of odd numbers: \",len(L1))\n",
        "#3.2\n",
        "print(\"even numbers are: \",L2)\n",
        "print(\"number of even numbers: \",len(L2))\n",
        "#3.3\n",
        "print(\"prime Numbers are: \",L3)\n",
        "print(\"number of prime numbers: \",len(L3))\n",
        "\n",
        "\n"
      ],
      "metadata": {
        "colab": {
          "base_uri": "https://localhost:8080/"
        },
        "id": "Nw-mT_S0bsrY",
        "outputId": "e70f4aaa-56fc-4487-fdc6-52ec457b4575"
      },
      "execution_count": 23,
      "outputs": [
        {
          "output_type": "stream",
          "name": "stdout",
          "text": [
            "odd numbers are:  [735, 133, 243, 475, 261, 423, 447, 283, 527, 419, 823, 753, 749, 855, 291, 383, 497, 837, 213, 499, 641, 219, 657, 337, 135, 247, 231, 299, 297, 133, 657, 401, 893, 793, 411, 369, 255, 557, 209, 267, 665, 685, 155, 625, 345, 453, 635, 167, 647, 343]\n",
            "number of odd numbers:  50\n",
            "even numbers are:  [100, 610, 318, 252, 520, 182, 430, 284, 344, 498, 512, 506, 154, 176, 636, 888, 434, 898, 858, 734, 822, 266, 336, 478, 534, 132, 662, 534, 336, 204, 792, 308, 456, 288, 590, 454, 500, 648, 246, 222, 500, 728, 228, 768, 586, 498, 850, 206, 366, 150]\n",
            "number of even numbers:  50\n",
            "prime Numbers are:  [283, 419, 823, 383, 499, 641, 337, 401, 557, 167, 647]\n",
            "number of prime numbers:  11\n"
          ]
        }
      ]
    },
    {
      "cell_type": "code",
      "source": [
        "#4\n",
        "# Consider the following two sets, A and B, representing scores of two teams in multiple\n",
        "# matches. A = {34, 56, 78, 90} and B = {78, 45, 90, 23}\n",
        "# WAP to perform the following operaƟons using set funcƟons:\n",
        "# i. Find the unique scores achieved by both teams (union of sets).\n",
        "# ii. IdenƟfy the scores that are common to both teams (intersecƟon of sets).\n",
        "# iii. Find the scores that are exclusive to each team (symmetric difference).\n",
        "# iv. Check if the scores of team A are a subset of team B, and if team B's scores are\n",
        "# a superset of team A.\n",
        "# v. Remove a specific score 𝑋 (input by the user) from set A if it exists. If not, print\n",
        "# a message saying it is not present.\n",
        "\n",
        "\n",
        "#4.1\n",
        "A={34, 56, 78, 90}\n",
        "B = {78, 45, 90, 23}\n",
        "print(A.union(B))\n",
        "#4.2\n",
        "print(A.intersection(B))\n",
        "#4.3\n",
        "print(\"Exclusive to set A: \",A.symmetric_difference(B))\n",
        "print(\"Exclusive to set B: \",B.symmetric_difference(A))\n",
        "#4.4\n",
        "print(A.issubset(B))\n",
        "print(B.issuperset(A))\n",
        "#4.5\n",
        "X=int (input(\"enter the score to be removed: \"))\n",
        "if X in A:\n",
        "  A.remove(X)\n",
        "  print(A)\n",
        "else:\n",
        "  print(\"Entered Number is Not in the Set! \")\n",
        "\n",
        "\n",
        "\n"
      ],
      "metadata": {
        "colab": {
          "base_uri": "https://localhost:8080/"
        },
        "id": "xVZGPCvggVm9",
        "outputId": "bbc275ea-9b6e-4165-ad53-99a4864ddc2e"
      },
      "execution_count": 29,
      "outputs": [
        {
          "output_type": "stream",
          "name": "stdout",
          "text": [
            "{34, 45, 78, 23, 56, 90}\n",
            "{90, 78}\n",
            "Exclusive to set A:  {34, 45, 23, 56}\n",
            "Exclusive to set B:  {34, 45, 23, 56}\n",
            "False\n",
            "False\n",
            "enter the score to be removed: 34\n",
            "{56, 90, 78}\n"
          ]
        }
      ]
    },
    {
      "cell_type": "code",
      "source": [
        "#5\n",
        "# Write a program to rename a key city to a location in the following dictionary.\n",
        "Dict={\n",
        "    \"Name\":\"Kelly\",\n",
        "    \"age\":25,\n",
        "    \"salary\":8000,\n",
        "    \"city\":\"New York\"\n",
        "}\n",
        "Dict[\"Location\"]=Dict.pop(\"city\")\n",
        "print(Dict)\n"
      ],
      "metadata": {
        "colab": {
          "base_uri": "https://localhost:8080/"
        },
        "id": "Psw1OqUycv1_",
        "outputId": "001cdebc-de78-460d-deeb-f2ecb079fc3f"
      },
      "execution_count": 34,
      "outputs": [
        {
          "output_type": "stream",
          "name": "stdout",
          "text": [
            "{'Name': 'Kelly', 'age': 25, 'salary': 8000, 'Location': 'New York'}\n"
          ]
        }
      ]
    }
  ]
}
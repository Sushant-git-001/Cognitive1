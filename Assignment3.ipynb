{
  "nbformat": 4,
  "nbformat_minor": 0,
  "metadata": {
    "colab": {
      "provenance": [],
      "authorship_tag": "ABX9TyNLo6/oIY2C7QFRZFn7m70i",
      "include_colab_link": true
    },
    "kernelspec": {
      "name": "python3",
      "display_name": "Python 3"
    },
    "language_info": {
      "name": "python"
    }
  },
  "cells": [
    {
      "cell_type": "markdown",
      "metadata": {
        "id": "view-in-github",
        "colab_type": "text"
      },
      "source": [
        "<a href=\"https://colab.research.google.com/github/Sushant-git-001/Cognitive1/blob/main/Assignment3.ipynb\" target=\"_parent\"><img src=\"https://colab.research.google.com/assets/colab-badge.svg\" alt=\"Open In Colab\"/></a>"
      ]
    },
    {
      "cell_type": "code",
      "execution_count": null,
      "metadata": {
        "colab": {
          "base_uri": "https://localhost:8080/"
        },
        "id": "k2J1PLwZ6kbW",
        "outputId": "d956ae43-6f38-4058-ef38-f50a2b2be5f6"
      },
      "outputs": [
        {
          "output_type": "stream",
          "name": "stdout",
          "text": [
            "   Tid Refund Marital Status Taxable Income Cheat\n",
            "0    1    Yes         Single           125K    No\n",
            "1    2     No        Married           100K    No\n",
            "2    3     No         Single            70K    No\n",
            "3    4    Yes        Married           120K    No\n",
            "4    5     No       Divorced            95K   Yes\n",
            "5    6     No        Married            60K    No\n",
            "6    7    Yes       Divorced           220K   Yes\n",
            "7    8     No         Single            85K   Yes\n",
            "8    9     No        Married            75K    No\n",
            "9   10     No         Single            90K   Yes\n"
          ]
        }
      ],
      "source": [
        "#1\n",
        "import pandas as pd\n",
        "data = {\n",
        "    \"Tid\": [1, 2, 3, 4, 5, 6, 7, 8, 9, 10],\n",
        "    \"Refund\": [\"Yes\", \"No\", \"No\", \"Yes\", \"No\", \"No\", \"Yes\", \"No\", \"No\", \"No\"],\n",
        "    \"Marital Status\": [\"Single\", \"Married\", \"Single\", \"Married\", \"Divorced\", \"Married\", \"Divorced\", \"Single\", \"Married\", \"Single\"],\n",
        "    \"Taxable Income\": [\"125K\", \"100K\", \"70K\", \"120K\", \"95K\", \"60K\", \"220K\", \"85K\", \"75K\", \"90K\"],\n",
        "    \"Cheat\": [\"No\", \"No\", \"No\", \"No\", \"Yes\", \"No\", \"Yes\", \"Yes\", \"No\", \"Yes\"]\n",
        "}\n",
        "df = pd.DataFrame(data)\n",
        "df.to_csv('Marinatetax.csv', index=False)\n",
        "print(df)"
      ]
    },
    {
      "cell_type": "code",
      "source": [
        "#2\n",
        "select_rows=df.loc[[0,4,7,8]]\n",
        "print(select_rows)"
      ],
      "metadata": {
        "colab": {
          "base_uri": "https://localhost:8080/"
        },
        "id": "1c-xBhzR7DUm",
        "outputId": "2b7d97e9-bd9f-43ab-90d9-caae39108372"
      },
      "execution_count": null,
      "outputs": [
        {
          "output_type": "stream",
          "name": "stdout",
          "text": [
            "   Tid Refund Marital Status Taxable Income Cheat\n",
            "0    1    Yes         Single           125K    No\n",
            "4    5     No       Divorced            95K   Yes\n",
            "7    8     No         Single            85K   Yes\n",
            "8    9     No        Married            75K    No\n"
          ]
        }
      ]
    },
    {
      "cell_type": "code",
      "source": [
        "#3.1\n",
        "select_row=df.loc[3:8]\n",
        "print(select_row)"
      ],
      "metadata": {
        "colab": {
          "base_uri": "https://localhost:8080/"
        },
        "id": "-CejsHNk7HpD",
        "outputId": "c47576b0-00c4-41a4-f44e-9cc9994127e0"
      },
      "execution_count": null,
      "outputs": [
        {
          "output_type": "stream",
          "name": "stdout",
          "text": [
            "   Tid Refund Marital Status Taxable Income Cheat\n",
            "3    4    Yes        Married           120K    No\n",
            "4    5     No       Divorced            95K   Yes\n",
            "5    6     No        Married            60K    No\n",
            "6    7    Yes       Divorced           220K   Yes\n",
            "7    8     No         Single            85K   Yes\n",
            "8    9     No        Married            75K    No\n"
          ]
        }
      ]
    },
    {
      "cell_type": "code",
      "source": [
        "#3.2\n",
        "select_cr=df.iloc[4:9,2:5]\n",
        "print(select_cr)"
      ],
      "metadata": {
        "colab": {
          "base_uri": "https://localhost:8080/"
        },
        "id": "QB4AJdUS7Nsg",
        "outputId": "369eea0b-3d27-4ac4-e1a2-4339d0d5f58e"
      },
      "execution_count": null,
      "outputs": [
        {
          "output_type": "stream",
          "name": "stdout",
          "text": [
            "  Marital Status Taxable Income Cheat\n",
            "4       Divorced            95K   Yes\n",
            "5        Married            60K    No\n",
            "6       Divorced           220K   Yes\n",
            "7         Single            85K   Yes\n",
            "8        Married            75K    No\n"
          ]
        }
      ]
    },
    {
      "cell_type": "code",
      "source": [
        "#3.3\n",
        "select_c=df.iloc[:,2:4]\n",
        "print(select_c)"
      ],
      "metadata": {
        "colab": {
          "base_uri": "https://localhost:8080/"
        },
        "id": "zOBIuJOb7SG3",
        "outputId": "532a48ae-3594-4f8b-b7de-c35727e5bf7b"
      },
      "execution_count": null,
      "outputs": [
        {
          "output_type": "stream",
          "name": "stdout",
          "text": [
            "  Marital Status Taxable Income\n",
            "0         Single           125K\n",
            "1        Married           100K\n",
            "2         Single            70K\n",
            "3        Married           120K\n",
            "4       Divorced            95K\n",
            "5        Married            60K\n",
            "6       Divorced           220K\n",
            "7         Single            85K\n",
            "8        Married            75K\n",
            "9         Single            90K\n"
          ]
        }
      ]
    },
    {
      "cell_type": "code",
      "source": [
        "#4\n",
        "df=pd.read_csv('Marinatetax.csv')\n",
        "print(df.head(5))"
      ],
      "metadata": {
        "colab": {
          "base_uri": "https://localhost:8080/"
        },
        "id": "8EWUTsOT7V9Y",
        "outputId": "ed289ad6-6802-4d11-bdd1-a6721ad7c7f2"
      },
      "execution_count": null,
      "outputs": [
        {
          "output_type": "stream",
          "name": "stdout",
          "text": [
            "   Tid Refund Marital Status Taxable Income Cheat\n",
            "0    1    Yes         Single           125K    No\n",
            "1    2     No        Married           100K    No\n",
            "2    3     No         Single            70K    No\n",
            "3    4    Yes        Married           120K    No\n",
            "4    5     No       Divorced            95K   Yes\n"
          ]
        }
      ]
    },
    {
      "cell_type": "code",
      "source": [
        "#5\n",
        "df = pd.read_csv('Marinatetax.csv')\n",
        "df = df.drop(index=3).drop(columns=df.columns[2])\n",
        "print(df)"
      ],
      "metadata": {
        "colab": {
          "base_uri": "https://localhost:8080/"
        },
        "id": "wvtYCxOh7YwL",
        "outputId": "82eec669-6f2e-4f71-d895-f52b525b83e7"
      },
      "execution_count": null,
      "outputs": [
        {
          "output_type": "stream",
          "name": "stdout",
          "text": [
            "   Tid Refund Taxable Income Cheat\n",
            "0    1    Yes           125K    No\n",
            "1    2     No           100K    No\n",
            "2    3     No            70K    No\n",
            "4    5     No            95K   Yes\n",
            "5    6     No            60K    No\n",
            "6    7    Yes           220K   Yes\n",
            "7    8     No            85K   Yes\n",
            "8    9     No            75K    No\n",
            "9   10     No            90K   Yes\n"
          ]
        }
      ]
    },
    {
      "cell_type": "code",
      "source": [
        "#6\n",
        "import pandas as pd\n",
        "data = {\n",
        "    \"Employee_ID\": [101, 102, 103, 104, 105],\n",
        "    \"Name\": [\"Alice\", \"Bob\", \"Charlie\", \"Diana\", \"Edward\"],\n",
        "    \"Department\": [\"HR\", \"IT\", \"IT\", \"Marketing\", \"Sales\"],\n",
        "    \"Age\": [29, 34, 41, 28, 38],\n",
        "    \"Salary\": [50000, 70000, 65000, 55000, 60000],\n",
        "    \"Years_of_Experience\": [4, 8, 10, 3, 12],\n",
        "    \"Joining_Date\": [\"2020-03-15\", \"2017-07-19\", \"2013-06-01\", \"2021-02-10\", \"2010-11-25\"],\n",
        "    \"Gender\": [\"Female\", \"Male\", \"Male\", \"Female\", \"Male\"],\n",
        "    \"Bonus\": [5000, 7000, 6000, 4500, 5000],\n",
        "    \"Rating\": [4.5, 4.0, 3.8, 4.7, 3.5]\n",
        "}\n",
        "\n",
        "\n",
        "df = pd.DataFrame(data)\n",
        "df.to_csv(\"employees.csv\", index=False)\n",
        "\n",
        "print(df)\n"
      ],
      "metadata": {
        "colab": {
          "base_uri": "https://localhost:8080/"
        },
        "id": "eX_fX-fDNENn",
        "outputId": "f11a17b5-6ff4-4e8b-ab3f-410868fe01ea"
      },
      "execution_count": null,
      "outputs": [
        {
          "output_type": "stream",
          "name": "stdout",
          "text": [
            "   Employee_ID     Name Department  Age  Salary  Years_of_Experience  \\\n",
            "0          101    Alice         HR   29   50000                    4   \n",
            "1          102      Bob         IT   34   70000                    8   \n",
            "2          103  Charlie         IT   41   65000                   10   \n",
            "3          104    Diana  Marketing   28   55000                    3   \n",
            "4          105   Edward      Sales   38   60000                   12   \n",
            "\n",
            "  Joining_Date  Gender  Bonus  Rating  \n",
            "0   2020-03-15  Female   5000     4.5  \n",
            "1   2017-07-19    Male   7000     4.0  \n",
            "2   2013-06-01    Male   6000     3.8  \n",
            "3   2021-02-10  Female   4500     4.7  \n",
            "4   2010-11-25    Male   5000     3.5  \n"
          ]
        }
      ]
    },
    {
      "cell_type": "code",
      "source": [
        "#6.a\n",
        "shappe=df.shape\n",
        "print(shappe)"
      ],
      "metadata": {
        "colab": {
          "base_uri": "https://localhost:8080/"
        },
        "id": "MyHBg1YhN4_d",
        "outputId": "b88d5f88-2de8-4c4a-e68d-524ad4f51fa6"
      },
      "execution_count": null,
      "outputs": [
        {
          "output_type": "stream",
          "name": "stdout",
          "text": [
            "(5, 10)\n"
          ]
        }
      ]
    },
    {
      "cell_type": "code",
      "source": [
        "#6.b\n",
        "df_info = pd.DataFrame({\n",
        "    'DataType': df.dtypes,\n",
        "    'Non-Null Count': df.count()\n",
        "})\n",
        "print(df_info)"
      ],
      "metadata": {
        "colab": {
          "base_uri": "https://localhost:8080/"
        },
        "id": "h5GNPTmFPahH",
        "outputId": "f9585e56-0255-49c1-ce90-5deebdf11c7a"
      },
      "execution_count": null,
      "outputs": [
        {
          "output_type": "stream",
          "name": "stdout",
          "text": [
            "                    DataType  Non-Null Count\n",
            "Employee_ID            int64               5\n",
            "Name                  object               5\n",
            "Department            object               5\n",
            "Age                    int64               5\n",
            "Salary                 int64               5\n",
            "Years_of_Experience    int64               5\n",
            "Joining_Date          object               5\n",
            "Gender                object               5\n",
            "Bonus                  int64               5\n",
            "Rating               float64               5\n"
          ]
        }
      ]
    },
    {
      "cell_type": "code",
      "source": [
        "#6.c\n",
        "des_stat=df.describe()\n",
        "print(des_stat)"
      ],
      "metadata": {
        "colab": {
          "base_uri": "https://localhost:8080/"
        },
        "id": "qlYkAcYWQBxd",
        "outputId": "7be1da5f-e8e5-47b8-ac9a-9a694253cea8"
      },
      "execution_count": null,
      "outputs": [
        {
          "output_type": "stream",
          "name": "stdout",
          "text": [
            "       Employee_ID        Age       Salary  Years_of_Experience   Bonus  \\\n",
            "count     5.000000   5.000000      5.00000             5.000000     5.0   \n",
            "mean    103.000000  34.000000  60000.00000             7.400000  5500.0   \n",
            "std       1.581139   5.612486   7905.69415             3.847077  1000.0   \n",
            "min     101.000000  28.000000  50000.00000             3.000000  4500.0   \n",
            "25%     102.000000  29.000000  55000.00000             4.000000  5000.0   \n",
            "50%     103.000000  34.000000  60000.00000             8.000000  5000.0   \n",
            "75%     104.000000  38.000000  65000.00000            10.000000  6000.0   \n",
            "max     105.000000  41.000000  70000.00000            12.000000  7000.0   \n",
            "\n",
            "         Rating  \n",
            "count  5.000000  \n",
            "mean   4.100000  \n",
            "std    0.494975  \n",
            "min    3.500000  \n",
            "25%    3.800000  \n",
            "50%    4.000000  \n",
            "75%    4.500000  \n",
            "max    4.700000  \n"
          ]
        }
      ]
    },
    {
      "cell_type": "code",
      "source": [
        "#6.d\n",
        "print(\"First 5 rows:\\n\")\n",
        "print(df.head())\n",
        "print(\" Last 3 rows:\")\n",
        "print(df.tail(3))"
      ],
      "metadata": {
        "colab": {
          "base_uri": "https://localhost:8080/"
        },
        "id": "6he7dFxHQHkA",
        "outputId": "79353964-ca76-4eb9-eef7-dfbf91dd914e"
      },
      "execution_count": null,
      "outputs": [
        {
          "output_type": "stream",
          "name": "stdout",
          "text": [
            "First 5 rows:\n",
            "\n",
            "   Employee_ID     Name Department  Age  Salary  Years_of_Experience  \\\n",
            "0          101    Alice         HR   29   50000                    4   \n",
            "1          102      Bob         IT   34   70000                    8   \n",
            "2          103  Charlie         IT   41   65000                   10   \n",
            "3          104    Diana  Marketing   28   55000                    3   \n",
            "4          105   Edward      Sales   38   60000                   12   \n",
            "\n",
            "  Joining_Date  Gender  Bonus  Rating  \n",
            "0   2020-03-15  Female   5000     4.5  \n",
            "1   2017-07-19    Male   7000     4.0  \n",
            "2   2013-06-01    Male   6000     3.8  \n",
            "3   2021-02-10  Female   4500     4.7  \n",
            "4   2010-11-25    Male   5000     3.5  \n",
            " Last 3 rows:\n",
            "   Employee_ID     Name Department  Age  Salary  Years_of_Experience  \\\n",
            "2          103  Charlie         IT   41   65000                   10   \n",
            "3          104    Diana  Marketing   28   55000                    3   \n",
            "4          105   Edward      Sales   38   60000                   12   \n",
            "\n",
            "  Joining_Date  Gender  Bonus  Rating  \n",
            "2   2013-06-01    Male   6000     3.8  \n",
            "3   2021-02-10  Female   4500     4.7  \n",
            "4   2010-11-25    Male   5000     3.5  \n"
          ]
        }
      ]
    },
    {
      "cell_type": "code",
      "source": [
        "#6.e\n",
        "df = pd.DataFrame(data)\n",
        "\n",
        "avg_salary = df['Salary'].mean()\n",
        "print(f\"Average salary: {avg_salary}\")\n",
        "\n",
        "\n",
        "total_bonus = df['Bonus'].sum()\n",
        "print(f\"Total bonus paid: {total_bonus}\")\n",
        "\n",
        "youngest_age = df['Age'].min()\n",
        "print(f\"Youngest employee's age: {youngest_age}\")\n",
        "\n",
        "highest_rating = df['Rating'].max()\n",
        "print(f\"Highest performance rating: {highest_rating}\")"
      ],
      "metadata": {
        "colab": {
          "base_uri": "https://localhost:8080/"
        },
        "id": "jrk7DxaIRHtS",
        "outputId": "ff875a05-8cd6-4d18-e1ce-8d42ee019e68"
      },
      "execution_count": null,
      "outputs": [
        {
          "output_type": "stream",
          "name": "stdout",
          "text": [
            "Average salary: 60000.0\n",
            "Total bonus paid: 27500\n",
            "Youngest employee's age: 28\n",
            "Highest performance rating: 4.7\n"
          ]
        }
      ]
    },
    {
      "cell_type": "code",
      "source": [
        "#6.f\n",
        "df_sorted = df.sort_values(by='Salary', ascending=False)\n",
        "print(\"Employees sorted by salary in descending order:\")\n",
        "print(df_sorted)"
      ],
      "metadata": {
        "colab": {
          "base_uri": "https://localhost:8080/"
        },
        "id": "RJhbEJRsRlAc",
        "outputId": "29b317cf-d42c-4718-cb74-5f0d95b3afdf"
      },
      "execution_count": null,
      "outputs": [
        {
          "output_type": "stream",
          "name": "stdout",
          "text": [
            "Employees sorted by salary in descending order:\n",
            "   Employee_ID     Name Department  Age  Salary  Years_of_Experience  \\\n",
            "1          102      Bob         IT   34   70000                    8   \n",
            "2          103  Charlie         IT   41   65000                   10   \n",
            "4          105   Edward      Sales   38   60000                   12   \n",
            "3          104    Diana  Marketing   28   55000                    3   \n",
            "0          101    Alice         HR   29   50000                    4   \n",
            "\n",
            "  Joining_Date  Gender  Bonus  Rating  \n",
            "1   2017-07-19    Male   7000     4.0  \n",
            "2   2013-06-01    Male   6000     3.8  \n",
            "4   2010-11-25    Male   5000     3.5  \n",
            "3   2021-02-10  Female   4500     4.7  \n",
            "0   2020-03-15  Female   5000     4.5  \n"
          ]
        }
      ]
    },
    {
      "cell_type": "code",
      "source": [
        "#6.g\n",
        "import pandas as pd\n",
        "\n",
        "data = {\n",
        "    \"Employee_ID\": [101, 102, 103, 104, 105],\n",
        "    \"Name\": [\"Alice\", \"Bob\", \"Charlie\", \"Diana\", \"Edward\"],\n",
        "    \"Department\": [\"HR\", \"IT\", \"IT\", \"Marketing\", \"Sales\"],\n",
        "    \"Age\": [29, 34, 41, 28, 38],\n",
        "    \"Salary\": [50000, 70000, 65000, 55000, 60000],\n",
        "    \"Years_of_Experience\": [4, 8, 10, 3, 12],\n",
        "    \"Joining_Date\": [\"2020-03-15\", \"2017-07-19\", \"2013-06-01\", \"2021-02-10\", \"2010-11-25\"],\n",
        "    \"Gender\": [\"Female\", \"Male\", \"Male\", \"Female\", \"Male\"],\n",
        "    \"Bonus\": [5000, 7000, 6000, 4500, 5000],\n",
        "    \"Rating\": [4.5, 4.0, 3.8, 4.7, 3.5]\n",
        "}\n",
        "\n",
        "df = pd.DataFrame(data)\n",
        "\n",
        "def categorize_rating(rating):\n",
        "    if rating >= 4.5:\n",
        "        return \"Excellent\"\n",
        "    elif rating >= 4.0:\n",
        "        return \"Good\"\n",
        "    else:\n",
        "        return \"Average\"\n",
        "\n",
        "df[\"Performance_Category\"] = df[\"Rating\"].apply(categorize_rating)\n",
        "print(df)"
      ],
      "metadata": {
        "id": "_6bUu2V3R1Ir",
        "colab": {
          "base_uri": "https://localhost:8080/"
        },
        "outputId": "7f09780e-8856-4069-d2fa-b86a7f41892e"
      },
      "execution_count": 5,
      "outputs": [
        {
          "output_type": "stream",
          "name": "stdout",
          "text": [
            "   Employee_ID     Name Department  Age  Salary  Years_of_Experience  \\\n",
            "0          101    Alice         HR   29   50000                    4   \n",
            "1          102      Bob         IT   34   70000                    8   \n",
            "2          103  Charlie         IT   41   65000                   10   \n",
            "3          104    Diana  Marketing   28   55000                    3   \n",
            "4          105   Edward      Sales   38   60000                   12   \n",
            "\n",
            "  Joining_Date  Gender  Bonus  Rating Performance_Category  \n",
            "0   2020-03-15  Female   5000     4.5            Excellent  \n",
            "1   2017-07-19    Male   7000     4.0                 Good  \n",
            "2   2013-06-01    Male   6000     3.8              Average  \n",
            "3   2021-02-10  Female   4500     4.7            Excellent  \n",
            "4   2010-11-25    Male   5000     3.5              Average  \n"
          ]
        }
      ]
    },
    {
      "cell_type": "code",
      "source": [
        "#6.h\n",
        "missing_values = df.isnull().sum()\n",
        "\n",
        "# Print the number of missing values in each column\n",
        "print(\"Number of missing values in each column:\")\n",
        "print(missing_values)"
      ],
      "metadata": {
        "colab": {
          "base_uri": "https://localhost:8080/"
        },
        "id": "zHZjb8DQobPB",
        "outputId": "bbdb2375-27a9-49bc-9a7c-b8f47203c20e"
      },
      "execution_count": 6,
      "outputs": [
        {
          "output_type": "stream",
          "name": "stdout",
          "text": [
            "Number of missing values in each column:\n",
            "Employee_ID             0\n",
            "Name                    0\n",
            "Department              0\n",
            "Age                     0\n",
            "Salary                  0\n",
            "Years_of_Experience     0\n",
            "Joining_Date            0\n",
            "Gender                  0\n",
            "Bonus                   0\n",
            "Rating                  0\n",
            "Performance_Category    0\n",
            "dtype: int64\n"
          ]
        }
      ]
    },
    {
      "cell_type": "code",
      "source": [
        "#6.i\n",
        "df = df.rename(columns={\"Employee_ID\": \"ID\"})\n",
        "print(df)"
      ],
      "metadata": {
        "colab": {
          "base_uri": "https://localhost:8080/"
        },
        "id": "OifdvEqBo0wa",
        "outputId": "ef7d0028-228c-4ce7-d4c0-791c8d4bab9a"
      },
      "execution_count": 7,
      "outputs": [
        {
          "output_type": "stream",
          "name": "stdout",
          "text": [
            "    ID     Name Department  Age  Salary  Years_of_Experience Joining_Date  \\\n",
            "0  101    Alice         HR   29   50000                    4   2020-03-15   \n",
            "1  102      Bob         IT   34   70000                    8   2017-07-19   \n",
            "2  103  Charlie         IT   41   65000                   10   2013-06-01   \n",
            "3  104    Diana  Marketing   28   55000                    3   2021-02-10   \n",
            "4  105   Edward      Sales   38   60000                   12   2010-11-25   \n",
            "\n",
            "   Gender  Bonus  Rating Performance_Category  \n",
            "0  Female   5000     4.5            Excellent  \n",
            "1    Male   7000     4.0                 Good  \n",
            "2    Male   6000     3.8              Average  \n",
            "3  Female   4500     4.7            Excellent  \n",
            "4    Male   5000     3.5              Average  \n"
          ]
        }
      ]
    },
    {
      "cell_type": "code",
      "source": [
        "#6.j\n",
        "new_df = df[(df[\"Years_of_Experience\"] > 5) & (df[\"Department\"] == \"IT\")]\n",
        "\n",
        "print(new_df)"
      ],
      "metadata": {
        "colab": {
          "base_uri": "https://localhost:8080/"
        },
        "id": "N8FdmM2npGh9",
        "outputId": "c341d032-e5de-4933-f127-5b536c50da79"
      },
      "execution_count": 8,
      "outputs": [
        {
          "output_type": "stream",
          "name": "stdout",
          "text": [
            "    ID     Name Department  Age  Salary  Years_of_Experience Joining_Date  \\\n",
            "1  102      Bob         IT   34   70000                    8   2017-07-19   \n",
            "2  103  Charlie         IT   41   65000                   10   2013-06-01   \n",
            "\n",
            "  Gender  Bonus  Rating Performance_Category  \n",
            "1   Male   7000     4.0                 Good  \n",
            "2   Male   6000     3.8              Average  \n"
          ]
        }
      ]
    },
    {
      "cell_type": "code",
      "source": [
        "#6.k\n",
        "df[\"Tax\"] = df[\"Salary\"] * 0.10\n",
        "print(df)"
      ],
      "metadata": {
        "colab": {
          "base_uri": "https://localhost:8080/"
        },
        "id": "NzHeEpAypV5Q",
        "outputId": "4b051fe5-7d35-4376-8bfe-6eb8aa0e3b9b"
      },
      "execution_count": 9,
      "outputs": [
        {
          "output_type": "stream",
          "name": "stdout",
          "text": [
            "    ID     Name Department  Age  Salary  Years_of_Experience Joining_Date  \\\n",
            "0  101    Alice         HR   29   50000                    4   2020-03-15   \n",
            "1  102      Bob         IT   34   70000                    8   2017-07-19   \n",
            "2  103  Charlie         IT   41   65000                   10   2013-06-01   \n",
            "3  104    Diana  Marketing   28   55000                    3   2021-02-10   \n",
            "4  105   Edward      Sales   38   60000                   12   2010-11-25   \n",
            "\n",
            "   Gender  Bonus  Rating Performance_Category     Tax  \n",
            "0  Female   5000     4.5            Excellent  5000.0  \n",
            "1    Male   7000     4.0                 Good  7000.0  \n",
            "2    Male   6000     3.8              Average  6500.0  \n",
            "3  Female   4500     4.7            Excellent  5500.0  \n",
            "4    Male   5000     3.5              Average  6000.0  \n"
          ]
        }
      ]
    },
    {
      "cell_type": "code",
      "source": [
        "#6.l\n",
        "df.to_csv(\"updated_employees.csv\", index=False)\n",
        "print (df)\n"
      ],
      "metadata": {
        "colab": {
          "base_uri": "https://localhost:8080/"
        },
        "id": "2tXEn8kbp7_e",
        "outputId": "0fbfa7a1-510e-4955-ff63-64faf8b09fac"
      },
      "execution_count": 11,
      "outputs": [
        {
          "output_type": "stream",
          "name": "stdout",
          "text": [
            "    ID     Name Department  Age  Salary  Years_of_Experience Joining_Date  \\\n",
            "0  101    Alice         HR   29   50000                    4   2020-03-15   \n",
            "1  102      Bob         IT   34   70000                    8   2017-07-19   \n",
            "2  103  Charlie         IT   41   65000                   10   2013-06-01   \n",
            "3  104    Diana  Marketing   28   55000                    3   2021-02-10   \n",
            "4  105   Edward      Sales   38   60000                   12   2010-11-25   \n",
            "\n",
            "   Gender  Bonus  Rating Performance_Category     Tax  \n",
            "0  Female   5000     4.5            Excellent  5000.0  \n",
            "1    Male   7000     4.0                 Good  7000.0  \n",
            "2    Male   6000     3.8              Average  6500.0  \n",
            "3  Female   4500     4.7            Excellent  5500.0  \n",
            "4    Male   5000     3.5              Average  6000.0  \n"
          ]
        }
      ]
    }
  ]
}
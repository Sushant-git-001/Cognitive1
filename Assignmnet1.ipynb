{
  "nbformat": 4,
  "nbformat_minor": 0,
  "metadata": {
    "colab": {
      "provenance": [],
      "authorship_tag": "ABX9TyPpxq8b3zhsYGnTrPIlGX7h",
      "include_colab_link": true
    },
    "kernelspec": {
      "name": "python3",
      "display_name": "Python 3"
    },
    "language_info": {
      "name": "python"
    }
  },
  "cells": [
    {
      "cell_type": "markdown",
      "metadata": {
        "id": "view-in-github",
        "colab_type": "text"
      },
      "source": [
        "<a href=\"https://colab.research.google.com/github/Sushant-git-001/Cognitive1/blob/main/Assignmnet1.ipynb\" target=\"_parent\"><img src=\"https://colab.research.google.com/assets/colab-badge.svg\" alt=\"Open In Colab\"/></a>"
      ]
    },
    {
      "cell_type": "code",
      "execution_count": null,
      "metadata": {
        "colab": {
          "base_uri": "https://localhost:8080/"
        },
        "id": "joVweK-yZgxp",
        "outputId": "c6fecf98-4fd3-4715-dc8d-017ca63d51e0"
      },
      "outputs": [
        {
          "output_type": "stream",
          "name": "stdout",
          "text": [
            "Way down we go\n"
          ]
        }
      ],
      "source": [
        "# 1\n",
        "print(\"Way down we go\");"
      ]
    },
    {
      "cell_type": "code",
      "source": [
        "# 2.1\n",
        "a=4;\n",
        "b=5;\n",
        "c=a+b;\n",
        "print(c);"
      ],
      "metadata": {
        "colab": {
          "base_uri": "https://localhost:8080/"
        },
        "id": "n3NmNhbFafEh",
        "outputId": "efba3f28-aaa9-487c-a3ea-8a2ef3e9377f"
      },
      "execution_count": null,
      "outputs": [
        {
          "output_type": "stream",
          "name": "stdout",
          "text": [
            "9\n"
          ]
        }
      ]
    },
    {
      "cell_type": "code",
      "source": [
        "#2.2\n",
        "s1=\"Death\";\n",
        "s2=\"Note\";\n",
        "s3=s1+s2;\n",
        "print(s3);"
      ],
      "metadata": {
        "colab": {
          "base_uri": "https://localhost:8080/"
        },
        "id": "f2vJUy5kaqPN",
        "outputId": "6ade79e7-c03b-472b-b0c8-8d6a84e1490e"
      },
      "execution_count": null,
      "outputs": [
        {
          "output_type": "stream",
          "name": "stdout",
          "text": [
            "DeathNote\n"
          ]
        }
      ]
    },
    {
      "cell_type": "code",
      "source": [
        "# 2.3\n",
        "a=\"1\";\n",
        "b=\"string\";\n",
        "c=b+a;\n",
        "print(c);"
      ],
      "metadata": {
        "colab": {
          "base_uri": "https://localhost:8080/"
        },
        "id": "4Byhu95ka4zP",
        "outputId": "ce31a21a-8702-4fbf-ae98-76eb05a6f5d5"
      },
      "execution_count": null,
      "outputs": [
        {
          "output_type": "stream",
          "name": "stdout",
          "text": [
            "string1\n"
          ]
        }
      ]
    },
    {
      "cell_type": "code",
      "source": [
        "# 3.1\n",
        "a=int(input(\"enter the number: \"))\n",
        "if a>0:\n",
        "  print(\"number is positive \")\n",
        "elif a<0:\n",
        "  print(\"number is negative\")\n",
        "else:\n",
        "  print(\"number is zero\")"
      ],
      "metadata": {
        "colab": {
          "base_uri": "https://localhost:8080/"
        },
        "id": "4M-ZJNgCbMlO",
        "outputId": "0ee25763-a827-4f19-ad06-8bdc4043882e"
      },
      "execution_count": null,
      "outputs": [
        {
          "output_type": "stream",
          "name": "stdout",
          "text": [
            "enter the number: -8\n",
            "number is negative\n"
          ]
        }
      ]
    },
    {
      "cell_type": "code",
      "source": [
        "# 3.2\n",
        "a=int(input(\"enter the number: \"))\n",
        "if a%2==0:\n",
        "  print(\"number is even\")\n",
        "else:\n",
        "  print(\"number is odd\")"
      ],
      "metadata": {
        "colab": {
          "base_uri": "https://localhost:8080/"
        },
        "id": "l-mGxZYt4A8E",
        "outputId": "f0ea9b3a-948b-4138-a747-1ecee124125b"
      },
      "execution_count": null,
      "outputs": [
        {
          "output_type": "stream",
          "name": "stdout",
          "text": [
            "enter the number: 5\n",
            "number is odd\n"
          ]
        }
      ]
    },
    {
      "cell_type": "code",
      "source": [
        "#4.1\n",
        "for i in range(1,11):\n",
        "  print(i)"
      ],
      "metadata": {
        "colab": {
          "base_uri": "https://localhost:8080/"
        },
        "id": "3BqUFMaI4YTy",
        "outputId": "4f48926b-7e92-4d0f-a24b-83e0a68a6162"
      },
      "execution_count": null,
      "outputs": [
        {
          "output_type": "stream",
          "name": "stdout",
          "text": [
            "1\n",
            "2\n",
            "3\n",
            "4\n",
            "5\n",
            "6\n",
            "7\n",
            "8\n",
            "9\n",
            "10\n"
          ]
        }
      ]
    },
    {
      "cell_type": "markdown",
      "source": [],
      "metadata": {
        "id": "70ALPMTgZuZN"
      }
    },
    {
      "cell_type": "code",
      "source": [
        "# 4.2\n",
        "i=1\n",
        "while i<11:\n",
        "  print(i)\n",
        "  i=i+1"
      ],
      "metadata": {
        "colab": {
          "base_uri": "https://localhost:8080/"
        },
        "id": "cFKk9GEk4yrL",
        "outputId": "549a7285-0e7e-4f1b-e6c0-b56d1e282cdd"
      },
      "execution_count": null,
      "outputs": [
        {
          "output_type": "stream",
          "name": "stdout",
          "text": [
            "1\n",
            "2\n",
            "3\n",
            "4\n",
            "5\n",
            "6\n",
            "7\n",
            "8\n",
            "9\n",
            "10\n"
          ]
        }
      ]
    },
    {
      "cell_type": "code",
      "source": [
        "#4.3\n",
        "sum=0\n",
        "for i in range(1,101):\n",
        "  sum=sum+i;\n",
        "\n",
        "  print(sum)\n"
      ],
      "metadata": {
        "colab": {
          "base_uri": "https://localhost:8080/"
        },
        "id": "ZdC1YLj05BUM",
        "outputId": "d1057fa7-7bea-449c-e1c1-54741693285f"
      },
      "execution_count": null,
      "outputs": [
        {
          "output_type": "stream",
          "name": "stdout",
          "text": [
            "1\n",
            "3\n",
            "6\n",
            "10\n",
            "15\n",
            "21\n",
            "28\n",
            "36\n",
            "45\n",
            "55\n",
            "66\n",
            "78\n",
            "91\n",
            "105\n",
            "120\n",
            "136\n",
            "153\n",
            "171\n",
            "190\n",
            "210\n",
            "231\n",
            "253\n",
            "276\n",
            "300\n",
            "325\n",
            "351\n",
            "378\n",
            "406\n",
            "435\n",
            "465\n",
            "496\n",
            "528\n",
            "561\n",
            "595\n",
            "630\n",
            "666\n",
            "703\n",
            "741\n",
            "780\n",
            "820\n",
            "861\n",
            "903\n",
            "946\n",
            "990\n",
            "1035\n",
            "1081\n",
            "1128\n",
            "1176\n",
            "1225\n",
            "1275\n",
            "1326\n",
            "1378\n",
            "1431\n",
            "1485\n",
            "1540\n",
            "1596\n",
            "1653\n",
            "1711\n",
            "1770\n",
            "1830\n",
            "1891\n",
            "1953\n",
            "2016\n",
            "2080\n",
            "2145\n",
            "2211\n",
            "2278\n",
            "2346\n",
            "2415\n",
            "2485\n",
            "2556\n",
            "2628\n",
            "2701\n",
            "2775\n",
            "2850\n",
            "2926\n",
            "3003\n",
            "3081\n",
            "3160\n",
            "3240\n",
            "3321\n",
            "3403\n",
            "3486\n",
            "3570\n",
            "3655\n",
            "3741\n",
            "3828\n",
            "3916\n",
            "4005\n",
            "4095\n",
            "4186\n",
            "4278\n",
            "4371\n",
            "4465\n",
            "4560\n",
            "4656\n",
            "4753\n",
            "4851\n",
            "4950\n",
            "5050\n"
          ]
        }
      ]
    },
    {
      "cell_type": "code",
      "source": [
        "# 5.1\n",
        "num=[34,56,33,4,5]\n",
        "i=max(num)\n",
        "print(i)\n",
        "j=min(num)\n",
        "print(j)\n"
      ],
      "metadata": {
        "colab": {
          "base_uri": "https://localhost:8080/"
        },
        "id": "lfbCdR8fbTl7",
        "outputId": "51508e23-6774-4fd7-dff1-323d000dded6"
      },
      "execution_count": null,
      "outputs": [
        {
          "output_type": "stream",
          "name": "stdout",
          "text": [
            "56\n",
            "4\n"
          ]
        }
      ]
    },
    {
      "cell_type": "code",
      "source": [
        "#5.2\n",
        "dict={\n",
        "  'ID':'102317141',\n",
        "  'group':'2Q-16',\n",
        "  'Name':'Sushant'\n",
        "}\n",
        "if('Name'in dict):\n",
        "  print('Name is present in dict and has the value:',dict['Name'])\n",
        "else:\n",
        "    print('name is not present in dict')"
      ],
      "metadata": {
        "id": "yG6okBUtd1G0",
        "colab": {
          "base_uri": "https://localhost:8080/"
        },
        "outputId": "db81fb8b-2e82-44ce-ccc2-2900b4972f9a"
      },
      "execution_count": null,
      "outputs": [
        {
          "output_type": "stream",
          "name": "stdout",
          "text": [
            "name is present in dict and has the value: Sushant\n"
          ]
        }
      ]
    },
    {
      "cell_type": "code",
      "source": [
        "#5.3\n",
        "Num=[2,3,1,4,23,90]\n",
        "Num.sort()\n",
        "print('the answer in ascending order is: ',Num)\n",
        "Num.sort(reverse=True)\n",
        "print('the answer in descending order is : ',Num)\n"
      ],
      "metadata": {
        "colab": {
          "base_uri": "https://localhost:8080/"
        },
        "id": "su2aq6wKIdbP",
        "outputId": "4b771329-de8a-4861-8377-bdb2072b51aa"
      },
      "execution_count": null,
      "outputs": [
        {
          "output_type": "stream",
          "name": "stdout",
          "text": [
            "the answer in ascending order is:  [1, 2, 3, 4, 23, 90]\n",
            "the answer in descending order is :  [90, 23, 4, 3, 2, 1]\n"
          ]
        }
      ]
    },
    {
      "cell_type": "code",
      "source": [
        "#5.4\n",
        "dict1={'name1':'sushant','Roll no.1':'102317141','Branch1':'CSE'}\n",
        "dict2={'name2':'Manan','Roll no.2':'102317142','Branch2':'COE'}\n",
        "merge={**dict1,**dict2}\n",
        "print(merge)\n",
        "\n"
      ],
      "metadata": {
        "colab": {
          "base_uri": "https://localhost:8080/"
        },
        "id": "S5GPqWifLlJn",
        "outputId": "996cc7ed-0618-4e2d-c662-1164eebd989c"
      },
      "execution_count": null,
      "outputs": [
        {
          "output_type": "stream",
          "name": "stdout",
          "text": [
            "{'name1': 'sushant', 'Roll no.1': '102317141', 'Branch1': 'CSE', 'name2': 'Manan', 'Roll no.2': '102317142', 'Branch2': 'COE'}\n"
          ]
        }
      ]
    },
    {
      "cell_type": "code",
      "source": [
        "#6.1\n",
        "count=0\n",
        "s1=\"apple\"\n",
        "for i in range(len(s1)):\n",
        "  if s1[i]=='a'or s1[i]=='e'or s1[i]=='i'or s1[i]=='o'or s1[i]=='u':\n",
        "    count=count+1\n",
        "print(count)\n"
      ],
      "metadata": {
        "colab": {
          "base_uri": "https://localhost:8080/"
        },
        "id": "6rganLQn0MRC",
        "outputId": "23570899-9d27-4ec0-c390-91c0cf44d0c9"
      },
      "execution_count": null,
      "outputs": [
        {
          "output_type": "stream",
          "name": "stdout",
          "text": [
            "2\n"
          ]
        }
      ]
    },
    {
      "cell_type": "code",
      "source": [
        "# 6.2\n",
        "s1=\"hunt\"\n",
        "rev=s1[::-1]\n",
        "print(rev)\n",
        "\n",
        "\n",
        "\n"
      ],
      "metadata": {
        "colab": {
          "base_uri": "https://localhost:8080/"
        },
        "id": "efXzGnZ42rRb",
        "outputId": "75701f25-f70c-4430-d56c-558788c48335"
      },
      "execution_count": null,
      "outputs": [
        {
          "output_type": "stream",
          "name": "stdout",
          "text": [
            "tnuh\n"
          ]
        }
      ]
    },
    {
      "cell_type": "code",
      "source": [
        "# 6.3\n",
        "s1=\"iri\"\n",
        "rev=s1[::-1]\n",
        "if(s1==rev):\n",
        "  print(\"the given word is a palindrome\")\n",
        "else:\n",
        "  print(\"the given word is not a palindrome\")\n"
      ],
      "metadata": {
        "colab": {
          "base_uri": "https://localhost:8080/"
        },
        "id": "NmI_YsUf7wkO",
        "outputId": "798b0354-7081-4803-8234-4dc1150db1e3"
      },
      "execution_count": null,
      "outputs": [
        {
          "output_type": "stream",
          "name": "stdout",
          "text": [
            "the given word is a palindrome\n"
          ]
        }
      ]
    },
    {
      "cell_type": "code",
      "source": [
        "#7.1\n",
        "file=open(\"scribble.txt\",\"w\")\n",
        "file.write(\"yo!\")\n",
        "file.close()\n",
        "\n",
        "file=open(\"scribble.txt\",\"r\")\n",
        "text=file.read()\n",
        "print(text)\n",
        "file.close()\n"
      ],
      "metadata": {
        "colab": {
          "base_uri": "https://localhost:8080/"
        },
        "id": "U3TgY2hO-oJ5",
        "outputId": "ee22dd15-bd04-455f-8349-f917aa142ff7"
      },
      "execution_count": null,
      "outputs": [
        {
          "output_type": "stream",
          "name": "stdout",
          "text": [
            "yo!\n"
          ]
        }
      ]
    },
    {
      "cell_type": "code",
      "source": [
        "# 7.2\n",
        "file=open(\"scribble.txt\",\"w\")\n",
        "file.write(\"Yo!\")\n",
        "file.close()\n",
        "\n",
        "file=open(\"scribble.txt\",\"r\")\n",
        "text=file.read()\n",
        "print(text)\n",
        "file.close()\n",
        "\n",
        "file=open(\"scribble.txt\",\"a\")\n",
        "file.write(\" Sushant this side\")\n",
        "file.close()\n",
        "file=open(\"scribble.txt\",\"r\")\n",
        "text1=file.read()\n",
        "print(text1)\n",
        "file.close()\n"
      ],
      "metadata": {
        "colab": {
          "base_uri": "https://localhost:8080/"
        },
        "id": "C2YgyLTw_g1a",
        "outputId": "a67be85c-1204-4bf9-b029-7e7bbf135081"
      },
      "execution_count": null,
      "outputs": [
        {
          "output_type": "stream",
          "name": "stdout",
          "text": [
            "Yo!\n",
            "Yo! Sushant this side\n"
          ]
        }
      ]
    },
    {
      "cell_type": "code",
      "source": [
        "# 7.3\n",
        "file=open(\"sc.txt\",\"w\")\n",
        "file.write(\"hey!\\n\")\n",
        "file.write(\" nice to meet you\")\n",
        "file.close()\n",
        "\n",
        "file=open(\"sc.txt\",\"r\")\n",
        "linecount=0\n",
        "for line in file:\n",
        "  linecount=linecount+1\n",
        "  print(linecount)\n",
        "\n",
        "file.close()\n"
      ],
      "metadata": {
        "colab": {
          "base_uri": "https://localhost:8080/"
        },
        "id": "2_F674jqAz9V",
        "outputId": "74c41ecd-f972-44c8-e0e5-5f874aaa0b11"
      },
      "execution_count": null,
      "outputs": [
        {
          "output_type": "stream",
          "name": "stdout",
          "text": [
            "1\n",
            "2\n"
          ]
        }
      ]
    },
    {
      "cell_type": "code",
      "source": [
        "#8.1\n",
        "\n",
        "a=20\n",
        "b=0\n",
        "try:\n",
        "    print(a/b)\n",
        "except:\n",
        "    print(\"Cannot be divided by zero\")\n",
        "\n"
      ],
      "metadata": {
        "id": "32aGFqWF_3ff",
        "outputId": "cb4eb91d-2b5d-4a4f-d032-3b0cf6a8dc98",
        "colab": {
          "base_uri": "https://localhost:8080/"
        }
      },
      "execution_count": 1,
      "outputs": [
        {
          "output_type": "stream",
          "name": "stdout",
          "text": [
            "Cannot be divided by zero\n"
          ]
        }
      ]
    },
    {
      "cell_type": "code",
      "source": [
        "#8.2\n",
        "try:\n",
        "    x=int(input(\"Enter a Number please \"))\n",
        "except:\n",
        "    print(\"Number is expected!\")"
      ],
      "metadata": {
        "id": "zW6TuJ1jb0DO",
        "outputId": "7a6e4a48-ac1d-4da2-aa5e-b7a31b03c336",
        "colab": {
          "base_uri": "https://localhost:8080/"
        }
      },
      "execution_count": 4,
      "outputs": [
        {
          "output_type": "stream",
          "name": "stdout",
          "text": [
            "Enter a Number please sushant\n",
            "Number is expected!\n"
          ]
        }
      ]
    },
    {
      "cell_type": "code",
      "source": [
        "#8.3\n",
        "try:\n",
        "    file=open(\"sfile.txt\",\"w\")\n",
        "    print(\"File opened successfully\")\n",
        "    try:\n",
        "        file.write(\"Sushant this side\")\n",
        "        print(\"content written in file\")\n",
        "    except:\n",
        "        print(\"Unable to write\")\n",
        "except:\n",
        "    print(\"Unable to open file\")\n",
        "finally:\n",
        "    file.close()"
      ],
      "metadata": {
        "id": "vDd8HJSWcOqO",
        "outputId": "6d9a4bfe-2ccd-4c96-f133-6eca7e63972a",
        "colab": {
          "base_uri": "https://localhost:8080/"
        }
      },
      "execution_count": 5,
      "outputs": [
        {
          "output_type": "stream",
          "name": "stdout",
          "text": [
            "File opened successfully\n",
            "content written in file\n"
          ]
        }
      ]
    },
    {
      "cell_type": "code",
      "source": [
        "#9.1\n",
        "\n",
        "import random\n",
        "for i in range(1,11):\n",
        "    x=random.randint(1,100)\n",
        "    print(x)"
      ],
      "metadata": {
        "id": "QGs1HNdxdbSS",
        "outputId": "a623c627-3d6d-4be2-f9d6-3eae4613bed9",
        "colab": {
          "base_uri": "https://localhost:8080/"
        }
      },
      "execution_count": 7,
      "outputs": [
        {
          "output_type": "stream",
          "name": "stdout",
          "text": [
            "47\n",
            "96\n",
            "60\n",
            "62\n",
            "28\n",
            "10\n",
            "28\n",
            "95\n",
            "64\n",
            "29\n"
          ]
        }
      ]
    },
    {
      "cell_type": "code",
      "source": [
        "#9.2\n",
        "x=random.randint(1,100)\n",
        "flag=True\n",
        "for i in range(2,x):\n",
        "    if(x%i==0):\n",
        "        print(str(x)+\" is not prime\")\n",
        "        flag=False\n",
        "        break\n",
        "\n",
        "if(flag):\n",
        "    print(str(x)+\" is prime\")"
      ],
      "metadata": {
        "id": "ctzN1t1ZdzQI",
        "outputId": "95377734-518b-4888-c05b-569e353d1be9",
        "colab": {
          "base_uri": "https://localhost:8080/"
        }
      },
      "execution_count": 10,
      "outputs": [
        {
          "output_type": "stream",
          "name": "stdout",
          "text": [
            "56 is not prime\n"
          ]
        }
      ]
    },
    {
      "cell_type": "code",
      "source": [
        "#9.3\n",
        "\n",
        "x=random.randint(1,6)\n",
        "print(str(x))"
      ],
      "metadata": {
        "id": "BB2pV56EeDFt",
        "outputId": "2f4c19eb-2415-4fa1-d4db-237f7bef27d3",
        "colab": {
          "base_uri": "https://localhost:8080/"
        }
      },
      "execution_count": 12,
      "outputs": [
        {
          "output_type": "stream",
          "name": "stdout",
          "text": [
            "2\n"
          ]
        }
      ]
    },
    {
      "cell_type": "code",
      "source": [
        "#9.4\n",
        "list=[10,20,30,40,50,60]\n",
        "random.shuffle(list)\n",
        "print(list)"
      ],
      "metadata": {
        "id": "C4dRiVJceUxX",
        "outputId": "9b44d128-c784-4960-84bf-8c6b266f10aa",
        "colab": {
          "base_uri": "https://localhost:8080/"
        }
      },
      "execution_count": 13,
      "outputs": [
        {
          "output_type": "stream",
          "name": "stdout",
          "text": [
            "[20, 60, 50, 30, 40, 10]\n"
          ]
        }
      ]
    },
    {
      "cell_type": "code",
      "source": [
        "#9.5\n",
        "list=[10,20,30,40,50]\n",
        "x=random.randint(0,len(list)-1)\n",
        "print(list[x])\n"
      ],
      "metadata": {
        "id": "nqwFaWg8etKx",
        "outputId": "c2938041-725d-4bae-d1a6-7d0acb2b0541",
        "colab": {
          "base_uri": "https://localhost:8080/"
        }
      },
      "execution_count": 14,
      "outputs": [
        {
          "output_type": "stream",
          "name": "stdout",
          "text": [
            "40\n"
          ]
        }
      ]
    },
    {
      "cell_type": "code",
      "source": [
        "#9.6\n",
        "\n",
        "import random\n",
        "import string\n",
        "\n",
        "length=int(input(\"Enter the length of password: \"))\n",
        "if length<4:\n",
        "    print(\"Length should be greater than 4 for secure password\")\n",
        "else:\n",
        "    letters=string.ascii_letters\n",
        "    digits=string.digits\n",
        "    special_chars=string.punctuation\n",
        "    #at least one char from each\n",
        "    password=[\n",
        "        random.choice(letters),\n",
        "        random.choice(digits),\n",
        "        random.choice(special_chars),\n",
        "        random.choice(letters.upper())\n",
        "    ]\n",
        "    all_chars=letters+digits+special_chars\n",
        "    password+=random.choices(all_chars,k=length-4)\n",
        "    random.shuffle(password)\n",
        "    print(''.join(password))\n",
        ""
      ],
      "metadata": {
        "id": "f4EoGW_xgG0b",
        "outputId": "fe823118-2381-4657-cc9f-27ca0a76b218",
        "colab": {
          "base_uri": "https://localhost:8080/"
        }
      },
      "execution_count": 15,
      "outputs": [
        {
          "output_type": "stream",
          "name": "stdout",
          "text": [
            "Enter the length of password: 4\n",
            "Fn)5\n"
          ]
        }
      ]
    },
    {
      "cell_type": "code",
      "source": [
        "#9.7\n",
        "ranks = ['2', '3', '4', '5', '6', '7', '8', '9', '10', 'J', 'Q', 'K', 'A']\n",
        "suits = ['Hearts', 'Diamonds', 'Clubs', 'Spades']\n",
        "\n",
        "rank = random.choice(ranks)\n",
        "suit = random.choice(suits)\n",
        "\n",
        "card = f\"{rank} of {suit}\"\n",
        "\n",
        "print(\"Randomly picking a card:\", card)\n"
      ],
      "metadata": {
        "id": "ikbCl2SghOTi",
        "outputId": "f3d6df03-e5d7-4561-cf42-f3ddd3d136dc",
        "colab": {
          "base_uri": "https://localhost:8080/"
        }
      },
      "execution_count": 16,
      "outputs": [
        {
          "output_type": "stream",
          "name": "stdout",
          "text": [
            "Randomly picking a card: 3 of Clubs\n"
          ]
        }
      ]
    },
    {
      "cell_type": "code",
      "source": [
        "# 10.1\n",
        "x=int(input(\"Enter a number: \"))\n",
        "y=int(input(\"Enter second number: \"))\n",
        "print(\"Sum is: \",x+y)\n"
      ],
      "metadata": {
        "id": "TvEUJYHehrRL",
        "outputId": "92b1a306-900c-48ae-de12-57134e3f6719",
        "colab": {
          "base_uri": "https://localhost:8080/"
        }
      },
      "execution_count": 1,
      "outputs": [
        {
          "output_type": "stream",
          "name": "stdout",
          "text": [
            "Enter a number: 5\n",
            "Enter second number: 6\n",
            "Sum is:  11\n"
          ]
        }
      ]
    },
    {
      "cell_type": "code",
      "source": [
        "# 10.2\n",
        "x=input(\"Enter a string: \")\n",
        "print(\"Your string is: \",x)\n",
        "print(\"Length of string is: \",len(x))\n"
      ],
      "metadata": {
        "id": "QEjYCwQ5iG3q",
        "outputId": "f01eea07-b876-4cf3-bed0-4d951b498f3e",
        "colab": {
          "base_uri": "https://localhost:8080/"
        }
      },
      "execution_count": 2,
      "outputs": [
        {
          "output_type": "stream",
          "name": "stdout",
          "text": [
            "Enter a string: rtet\n",
            "Your string is:  rtet\n",
            "Length of string is:  4\n"
          ]
        }
      ]
    },
    {
      "cell_type": "code",
      "source": [
        "# 11.1\n",
        "import math\n",
        "x=int(input(\"Enter a Number: \"))\n",
        "print(\"Square root of \",x,\" is \",math.sqrt(x))\n"
      ],
      "metadata": {
        "id": "3guWOC5Winn_",
        "outputId": "6ea00548-1bd9-4d34-ad77-3a1d4885a3cd",
        "colab": {
          "base_uri": "https://localhost:8080/"
        }
      },
      "execution_count": 3,
      "outputs": [
        {
          "output_type": "stream",
          "name": "stdout",
          "text": [
            "Enter a Number: 8\n",
            "Square root of  8  is  2.8284271247461903\n"
          ]
        }
      ]
    },
    {
      "cell_type": "code",
      "source": [
        "# 11.2\n",
        "import datetime\n",
        "date=datetime.datetime.today()\n",
        "print(date)"
      ],
      "metadata": {
        "id": "OEnLU-56jDSJ",
        "outputId": "d814fd44-dadc-446e-c852-383e9e17580f",
        "colab": {
          "base_uri": "https://localhost:8080/"
        }
      },
      "execution_count": 4,
      "outputs": [
        {
          "output_type": "stream",
          "name": "stdout",
          "text": [
            "2025-01-13 12:09:48.322239\n"
          ]
        }
      ]
    },
    {
      "cell_type": "code",
      "source": [
        "# 11.3\n",
        "import os\n",
        "files = os.listdir()\n",
        "print(\"Files in the current directory:\")\n",
        "for file in files:\n",
        "    print(file)"
      ],
      "metadata": {
        "id": "iuEZdnYZkgZx",
        "outputId": "a5e52b19-c36b-47a7-e611-e4254982f24e",
        "colab": {
          "base_uri": "https://localhost:8080/"
        }
      },
      "execution_count": 5,
      "outputs": [
        {
          "output_type": "stream",
          "name": "stdout",
          "text": [
            "Files in the current directory:\n",
            ".config\n",
            "sfile.txt\n",
            "sample_data\n"
          ]
        }
      ]
    },
    {
      "cell_type": "code",
      "source": [],
      "metadata": {
        "id": "fZVo7Kk4lWVn"
      },
      "execution_count": null,
      "outputs": []
    },
    {
      "cell_type": "code",
      "source": [],
      "metadata": {
        "id": "LRuRunXTlIrd"
      },
      "execution_count": null,
      "outputs": []
    }
  ]
}
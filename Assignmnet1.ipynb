{
  "nbformat": 4,
  "nbformat_minor": 0,
  "metadata": {
    "colab": {
      "provenance": [],
      "authorship_tag": "ABX9TyPChsEE8w+eP/YykmBniUFs",
      "include_colab_link": true
    },
    "kernelspec": {
      "name": "python3",
      "display_name": "Python 3"
    },
    "language_info": {
      "name": "python"
    }
  },
  "cells": [
    {
      "cell_type": "markdown",
      "metadata": {
        "id": "view-in-github",
        "colab_type": "text"
      },
      "source": [
        "<a href=\"https://colab.research.google.com/github/Sushant-git-001/Cognitive1/blob/main/Assignmnet1.ipynb\" target=\"_parent\"><img src=\"https://colab.research.google.com/assets/colab-badge.svg\" alt=\"Open In Colab\"/></a>"
      ]
    },
    {
      "cell_type": "code",
      "execution_count": null,
      "metadata": {
        "colab": {
          "base_uri": "https://localhost:8080/"
        },
        "id": "joVweK-yZgxp",
        "outputId": "c6fecf98-4fd3-4715-dc8d-017ca63d51e0"
      },
      "outputs": [
        {
          "output_type": "stream",
          "name": "stdout",
          "text": [
            "Way down we go\n"
          ]
        }
      ],
      "source": [
        "# 1\n",
        "print(\"Way down we go\");"
      ]
    },
    {
      "cell_type": "code",
      "source": [
        "# 2.1\n",
        "a=4;\n",
        "b=5;\n",
        "c=a+b;\n",
        "print(c);"
      ],
      "metadata": {
        "colab": {
          "base_uri": "https://localhost:8080/"
        },
        "id": "n3NmNhbFafEh",
        "outputId": "efba3f28-aaa9-487c-a3ea-8a2ef3e9377f"
      },
      "execution_count": null,
      "outputs": [
        {
          "output_type": "stream",
          "name": "stdout",
          "text": [
            "9\n"
          ]
        }
      ]
    },
    {
      "cell_type": "code",
      "source": [
        "#2.2\n",
        "s1=\"Death\";\n",
        "s2=\"Note\";\n",
        "s3=s1+s2;\n",
        "print(s3);"
      ],
      "metadata": {
        "colab": {
          "base_uri": "https://localhost:8080/"
        },
        "id": "f2vJUy5kaqPN",
        "outputId": "6ade79e7-c03b-472b-b0c8-8d6a84e1490e"
      },
      "execution_count": null,
      "outputs": [
        {
          "output_type": "stream",
          "name": "stdout",
          "text": [
            "DeathNote\n"
          ]
        }
      ]
    },
    {
      "cell_type": "code",
      "source": [
        "# 2.3\n",
        "a=\"1\";\n",
        "b=\"string\";\n",
        "c=b+a;\n",
        "print(c);"
      ],
      "metadata": {
        "colab": {
          "base_uri": "https://localhost:8080/"
        },
        "id": "4Byhu95ka4zP",
        "outputId": "ce31a21a-8702-4fbf-ae98-76eb05a6f5d5"
      },
      "execution_count": null,
      "outputs": [
        {
          "output_type": "stream",
          "name": "stdout",
          "text": [
            "string1\n"
          ]
        }
      ]
    },
    {
      "cell_type": "code",
      "source": [
        "# 3.1\n",
        "a=int(input(\"enter the number: \"))\n",
        "if a>0:\n",
        "  print(\"number is positive \")\n",
        "elif a<0:\n",
        "  print(\"number is negative\")\n",
        "else:\n",
        "  print(\"number is zero\")"
      ],
      "metadata": {
        "colab": {
          "base_uri": "https://localhost:8080/"
        },
        "id": "4M-ZJNgCbMlO",
        "outputId": "0ee25763-a827-4f19-ad06-8bdc4043882e"
      },
      "execution_count": null,
      "outputs": [
        {
          "output_type": "stream",
          "name": "stdout",
          "text": [
            "enter the number: -8\n",
            "number is negative\n"
          ]
        }
      ]
    },
    {
      "cell_type": "code",
      "source": [
        "# 3.2\n",
        "a=int(input(\"enter the number: \"))\n",
        "if a%2==0:\n",
        "  print(\"number is even\")\n",
        "else:\n",
        "  print(\"number is odd\")"
      ],
      "metadata": {
        "colab": {
          "base_uri": "https://localhost:8080/"
        },
        "id": "l-mGxZYt4A8E",
        "outputId": "f0ea9b3a-948b-4138-a747-1ecee124125b"
      },
      "execution_count": null,
      "outputs": [
        {
          "output_type": "stream",
          "name": "stdout",
          "text": [
            "enter the number: 5\n",
            "number is odd\n"
          ]
        }
      ]
    },
    {
      "cell_type": "code",
      "source": [
        "#4.1\n",
        "for i in range(1,11):\n",
        "  print(i)"
      ],
      "metadata": {
        "colab": {
          "base_uri": "https://localhost:8080/"
        },
        "id": "3BqUFMaI4YTy",
        "outputId": "4f48926b-7e92-4d0f-a24b-83e0a68a6162"
      },
      "execution_count": null,
      "outputs": [
        {
          "output_type": "stream",
          "name": "stdout",
          "text": [
            "1\n",
            "2\n",
            "3\n",
            "4\n",
            "5\n",
            "6\n",
            "7\n",
            "8\n",
            "9\n",
            "10\n"
          ]
        }
      ]
    },
    {
      "cell_type": "markdown",
      "source": [],
      "metadata": {
        "id": "70ALPMTgZuZN"
      }
    },
    {
      "cell_type": "code",
      "source": [
        "# 4.2\n",
        "i=1\n",
        "while i<11:\n",
        "  print(i)\n",
        "  i=i+1"
      ],
      "metadata": {
        "colab": {
          "base_uri": "https://localhost:8080/"
        },
        "id": "cFKk9GEk4yrL",
        "outputId": "549a7285-0e7e-4f1b-e6c0-b56d1e282cdd"
      },
      "execution_count": null,
      "outputs": [
        {
          "output_type": "stream",
          "name": "stdout",
          "text": [
            "1\n",
            "2\n",
            "3\n",
            "4\n",
            "5\n",
            "6\n",
            "7\n",
            "8\n",
            "9\n",
            "10\n"
          ]
        }
      ]
    },
    {
      "cell_type": "code",
      "source": [
        "#4.3\n",
        "sum=0\n",
        "for i in range(1,101):\n",
        "  sum=sum+i;\n",
        "\n",
        "  print(sum)\n"
      ],
      "metadata": {
        "colab": {
          "base_uri": "https://localhost:8080/"
        },
        "id": "ZdC1YLj05BUM",
        "outputId": "d1057fa7-7bea-449c-e1c1-54741693285f"
      },
      "execution_count": null,
      "outputs": [
        {
          "output_type": "stream",
          "name": "stdout",
          "text": [
            "1\n",
            "3\n",
            "6\n",
            "10\n",
            "15\n",
            "21\n",
            "28\n",
            "36\n",
            "45\n",
            "55\n",
            "66\n",
            "78\n",
            "91\n",
            "105\n",
            "120\n",
            "136\n",
            "153\n",
            "171\n",
            "190\n",
            "210\n",
            "231\n",
            "253\n",
            "276\n",
            "300\n",
            "325\n",
            "351\n",
            "378\n",
            "406\n",
            "435\n",
            "465\n",
            "496\n",
            "528\n",
            "561\n",
            "595\n",
            "630\n",
            "666\n",
            "703\n",
            "741\n",
            "780\n",
            "820\n",
            "861\n",
            "903\n",
            "946\n",
            "990\n",
            "1035\n",
            "1081\n",
            "1128\n",
            "1176\n",
            "1225\n",
            "1275\n",
            "1326\n",
            "1378\n",
            "1431\n",
            "1485\n",
            "1540\n",
            "1596\n",
            "1653\n",
            "1711\n",
            "1770\n",
            "1830\n",
            "1891\n",
            "1953\n",
            "2016\n",
            "2080\n",
            "2145\n",
            "2211\n",
            "2278\n",
            "2346\n",
            "2415\n",
            "2485\n",
            "2556\n",
            "2628\n",
            "2701\n",
            "2775\n",
            "2850\n",
            "2926\n",
            "3003\n",
            "3081\n",
            "3160\n",
            "3240\n",
            "3321\n",
            "3403\n",
            "3486\n",
            "3570\n",
            "3655\n",
            "3741\n",
            "3828\n",
            "3916\n",
            "4005\n",
            "4095\n",
            "4186\n",
            "4278\n",
            "4371\n",
            "4465\n",
            "4560\n",
            "4656\n",
            "4753\n",
            "4851\n",
            "4950\n",
            "5050\n"
          ]
        }
      ]
    },
    {
      "cell_type": "code",
      "source": [
        "# 5.1\n",
        "num=[34,56,33,4,5]\n",
        "i=max(num)\n",
        "print(i)\n",
        "j=min(num)\n",
        "print(j)\n"
      ],
      "metadata": {
        "colab": {
          "base_uri": "https://localhost:8080/"
        },
        "id": "lfbCdR8fbTl7",
        "outputId": "51508e23-6774-4fd7-dff1-323d000dded6"
      },
      "execution_count": null,
      "outputs": [
        {
          "output_type": "stream",
          "name": "stdout",
          "text": [
            "56\n",
            "4\n"
          ]
        }
      ]
    },
    {
      "cell_type": "code",
      "source": [
        "#5.2\n",
        "dict={\n",
        "  'ID':'102317141',\n",
        "  'group':'2Q-16',\n",
        "  'Name':'Sushant'\n",
        "}\n",
        "if('Name'in dict):\n",
        "  print('Name is present in dict and has the value:',dict['Name'])\n",
        "else:\n",
        "    print('name is not present in dict')"
      ],
      "metadata": {
        "id": "yG6okBUtd1G0",
        "colab": {
          "base_uri": "https://localhost:8080/"
        },
        "outputId": "db81fb8b-2e82-44ce-ccc2-2900b4972f9a"
      },
      "execution_count": null,
      "outputs": [
        {
          "output_type": "stream",
          "name": "stdout",
          "text": [
            "name is present in dict and has the value: Sushant\n"
          ]
        }
      ]
    },
    {
      "cell_type": "code",
      "source": [
        "#5.3\n",
        "Num=[2,3,1,4,23,90]\n",
        "Num.sort()\n",
        "print('the answer in ascending order is: ',Num)\n",
        "Num.sort(reverse=True)\n",
        "print('the answer in descending order is : ',Num)\n"
      ],
      "metadata": {
        "colab": {
          "base_uri": "https://localhost:8080/"
        },
        "id": "su2aq6wKIdbP",
        "outputId": "4b771329-de8a-4861-8377-bdb2072b51aa"
      },
      "execution_count": null,
      "outputs": [
        {
          "output_type": "stream",
          "name": "stdout",
          "text": [
            "the answer in ascending order is:  [1, 2, 3, 4, 23, 90]\n",
            "the answer in descending order is :  [90, 23, 4, 3, 2, 1]\n"
          ]
        }
      ]
    },
    {
      "cell_type": "code",
      "source": [
        "#5.4\n",
        "dict1={'name1':'sushant','Roll no.1':'102317141','Branch1':'CSE'}\n",
        "dict2={'name2':'Manan','Roll no.2':'102317142','Branch2':'COE'}\n",
        "merge={**dict1,**dict2}\n",
        "print(merge)\n"
      ],
      "metadata": {
        "colab": {
          "base_uri": "https://localhost:8080/"
        },
        "id": "S5GPqWifLlJn",
        "outputId": "996cc7ed-0618-4e2d-c662-1164eebd989c"
      },
      "execution_count": null,
      "outputs": [
        {
          "output_type": "stream",
          "name": "stdout",
          "text": [
            "{'name1': 'sushant', 'Roll no.1': '102317141', 'Branch1': 'CSE', 'name2': 'Manan', 'Roll no.2': '102317142', 'Branch2': 'COE'}\n"
          ]
        }
      ]
    }
  ]
}
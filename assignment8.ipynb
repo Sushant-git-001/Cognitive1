{
  "nbformat": 4,
  "nbformat_minor": 0,
  "metadata": {
    "colab": {
      "provenance": [],
      "authorship_tag": "ABX9TyN7YRCYn1lcMzuqcZATF1LI",
      "include_colab_link": true
    },
    "kernelspec": {
      "name": "python3",
      "display_name": "Python 3"
    },
    "language_info": {
      "name": "python"
    }
  },
  "cells": [
    {
      "cell_type": "markdown",
      "metadata": {
        "id": "view-in-github",
        "colab_type": "text"
      },
      "source": [
        "<a href=\"https://colab.research.google.com/github/Sushant-git-001/Cognitive1/blob/main/assignment8.ipynb\" target=\"_parent\"><img src=\"https://colab.research.google.com/assets/colab-badge.svg\" alt=\"Open In Colab\"/></a>"
      ]
    },
    {
      "cell_type": "code",
      "execution_count": null,
      "metadata": {
        "id": "OrNWjRIXVE-A"
      },
      "outputs": [],
      "source": [
        "from sklearn import datasets\n",
        "from sklearn.model_selection import train_test_split\n",
        "from sklearn.preprocessing import StandardScaler\n",
        "from sklearn.linear_model import LogisticRegression\n",
        "from sklearn.metrics import accuracy_score\n",
        "\n",
        "iris_dataset = datasets.load_iris()\n",
        "features = iris_dataset.data\n",
        "labels = iris_dataset.target\n",
        "\n",
        "features_train, features_test, labels_train, labels_test = train_test_split(features, labels, test_size=0.2, random_state=42, stratify=labels)\n",
        "\n",
        "normalizer = StandardScaler()\n",
        "features_train = normalizer.fit_transform(features_train)\n",
        "features_test = normalizer.transform(features_test)\n",
        "\n",
        "classifier = LogisticRegression(multi_class='ovr', solver='lbfgs', max_iter=200)\n",
        "classifier.fit(features_train, labels_train)\n",
        "\n",
        "predictions = classifier.predict(features_test)\n",
        "\n",
        "model_accuracy = accuracy_score(labels_test, predictions)\n",
        "print(f\"Accuracy: {model_accuracy:.2f}\")"
      ]
    }
  ]
}